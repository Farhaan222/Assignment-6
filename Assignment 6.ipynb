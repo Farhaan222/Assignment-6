{
 "cells": [
  {
   "cell_type": "code",
   "execution_count": 2,
   "id": "4137b7f8",
   "metadata": {},
   "outputs": [
    {
     "data": {
      "text/html": [
       "<div>\n",
       "<style scoped>\n",
       "    .dataframe tbody tr th:only-of-type {\n",
       "        vertical-align: middle;\n",
       "    }\n",
       "\n",
       "    .dataframe tbody tr th {\n",
       "        vertical-align: top;\n",
       "    }\n",
       "\n",
       "    .dataframe thead th {\n",
       "        text-align: right;\n",
       "    }\n",
       "</style>\n",
       "<table border=\"1\" class=\"dataframe\">\n",
       "  <thead>\n",
       "    <tr style=\"text-align: right;\">\n",
       "      <th></th>\n",
       "      <th>heightIn</th>\n",
       "      <th>weightLb</th>\n",
       "    </tr>\n",
       "  </thead>\n",
       "  <tbody>\n",
       "    <tr>\n",
       "      <th>0</th>\n",
       "      <td>56.3</td>\n",
       "      <td>85.0</td>\n",
       "    </tr>\n",
       "    <tr>\n",
       "      <th>1</th>\n",
       "      <td>62.3</td>\n",
       "      <td>105.0</td>\n",
       "    </tr>\n",
       "    <tr>\n",
       "      <th>2</th>\n",
       "      <td>63.3</td>\n",
       "      <td>108.0</td>\n",
       "    </tr>\n",
       "    <tr>\n",
       "      <th>3</th>\n",
       "      <td>59.0</td>\n",
       "      <td>92.0</td>\n",
       "    </tr>\n",
       "    <tr>\n",
       "      <th>4</th>\n",
       "      <td>62.5</td>\n",
       "      <td>112.5</td>\n",
       "    </tr>\n",
       "  </tbody>\n",
       "</table>\n",
       "</div>"
      ],
      "text/plain": [
       "   heightIn  weightLb\n",
       "0      56.3      85.0\n",
       "1      62.3     105.0\n",
       "2      63.3     108.0\n",
       "3      59.0      92.0\n",
       "4      62.5     112.5"
      ]
     },
     "execution_count": 2,
     "metadata": {},
     "output_type": "execute_result"
    }
   ],
   "source": [
    "import pandas as pd\n",
    "import matplotlib.pyplot as plt\n",
    "import seaborn as sns\n",
    "from scipy.stats import pearsonr\n",
    "import statsmodels.api as sm\n",
    "from scipy import stats\n",
    "data=pd.read_csv(\"https://gist.githubusercontent.com/EconometricsBySimulation/5735039/raw/c77c7e9ca27f45ca989200f696f0ccc5aec4132a/heightweight.csv\",usecols=(\"heightIn\",\"weightLb\"))\n",
    "data.head()"
   ]
  },
  {
   "cell_type": "code",
   "execution_count": 3,
   "id": "86cfeb43",
   "metadata": {},
   "outputs": [
    {
     "data": {
      "text/plain": [
       "heightIn    0\n",
       "weightLb    0\n",
       "dtype: int64"
      ]
     },
     "execution_count": 3,
     "metadata": {},
     "output_type": "execute_result"
    }
   ],
   "source": [
    "data.isnull().sum()"
   ]
  },
  {
   "cell_type": "code",
   "execution_count": 4,
   "id": "b25ae504",
   "metadata": {},
   "outputs": [
    {
     "data": {
      "text/plain": [
       "ShapiroResult(statistic=0.9962847828865051, pvalue=0.8473318219184875)"
      ]
     },
     "execution_count": 4,
     "metadata": {},
     "output_type": "execute_result"
    }
   ],
   "source": [
    "stats.shapiro(data['heightIn'])"
   ]
  },
  {
   "cell_type": "code",
   "execution_count": 5,
   "id": "9b3ce990",
   "metadata": {},
   "outputs": [
    {
     "data": {
      "text/plain": [
       "ShapiroResult(statistic=0.9699857234954834, pvalue=6.59234938211739e-05)"
      ]
     },
     "execution_count": 5,
     "metadata": {},
     "output_type": "execute_result"
    }
   ],
   "source": [
    "stats.shapiro(data['weightLb'])"
   ]
  },
  {
   "cell_type": "code",
   "execution_count": 6,
   "id": "7ce998dc",
   "metadata": {},
   "outputs": [
    {
     "data": {
      "text/plain": [
       "{'whiskers': [<matplotlib.lines.Line2D at 0xd07d3ed250>,\n",
       "  <matplotlib.lines.Line2D at 0xd07d3ed5e0>],\n",
       " 'caps': [<matplotlib.lines.Line2D at 0xd07d3ed970>,\n",
       "  <matplotlib.lines.Line2D at 0xd07d3edd00>],\n",
       " 'boxes': [<matplotlib.lines.Line2D at 0xd07d3dde80>],\n",
       " 'medians': [<matplotlib.lines.Line2D at 0xd07d3f80d0>],\n",
       " 'fliers': [<matplotlib.lines.Line2D at 0xd07d3f8460>],\n",
       " 'means': []}"
      ]
     },
     "execution_count": 6,
     "metadata": {},
     "output_type": "execute_result"
    },
    {
     "data": {
      "image/png": "[encoded data removed]",
      "text/plain": [
       "<Figure size 432x288 with 2 Axes>"
      ]
     },
     "metadata": {
      "needs_background": "light"
     },
     "output_type": "display_data"
    }
   ],
   "source": [
    "plt.subplot(1,2,1)\n",
    "plt.boxplot(data['heightIn'])\n",
    "plt.subplot(1,2,2)\n",
    "plt.boxplot(data['weightLb'])"
   ]
  },
  {
   "cell_type": "code",
   "execution_count": 7,
   "id": "17fc11f1",
   "metadata": {},
   "outputs": [
    {
     "data": {
      "text/plain": [
       "(237, 2)"
      ]
     },
     "execution_count": 7,
     "metadata": {},
     "output_type": "execute_result"
    }
   ],
   "source": [
    "data.shape"
   ]
  },
  {
   "cell_type": "code",
   "execution_count": 8,
   "id": "950f63bb",
   "metadata": {},
   "outputs": [
    {
     "data": {
      "text/plain": [
       "(189, 2)"
      ]
     },
     "execution_count": 8,
     "metadata": {},
     "output_type": "execute_result"
    }
   ],
   "source": [
    "train=data.iloc[0:189]\n",
    "train.shape"
   ]
  },
  {
   "cell_type": "code",
   "execution_count": 9,
   "id": "3404da5a",
   "metadata": {},
   "outputs": [
    {
     "data": {
      "text/plain": [
       "(48, 2)"
      ]
     },
     "execution_count": 9,
     "metadata": {},
     "output_type": "execute_result"
    }
   ],
   "source": [
    "test=data.iloc[189:237]\n",
    "test.shape"
   ]
  },
  {
   "cell_type": "code",
   "execution_count": 10,
   "id": "28949cd3",
   "metadata": {},
   "outputs": [
    {
     "data": {
      "text/plain": [
       "(0.7748761066276015, 1.028685831403233e-48)"
      ]
     },
     "execution_count": 10,
     "metadata": {},
     "output_type": "execute_result"
    }
   ],
   "source": [
    "stats.pearsonr(data.heightIn,data.weightLb)"
   ]
  },
  {
   "cell_type": "code",
   "execution_count": 11,
   "id": "cd6667c9",
   "metadata": {},
   "outputs": [
    {
     "name": "stderr",
     "output_type": "stream",
     "text": [
      "D:\\Anaconda\\lib\\site-packages\\statsmodels\\tsa\\tsatools.py:142: FutureWarning: In a future version of pandas all arguments of concat except for the argument 'objs' will be keyword-only\n",
      "  x = pd.concat(x[::order], 1)\n"
     ]
    }
   ],
   "source": [
    "train_x=train.heightIn\n",
    "train_y=train.weightLb\n",
    "train_x=sm.add_constant(train_x)\n",
    "model=sm.OLS(train_y,train_x).fit()"
   ]
  },
  {
   "cell_type": "code",
   "execution_count": 12,
   "id": "1553d6fa",
   "metadata": {},
   "outputs": [],
   "source": [
    "test_x=test.heightIn\n",
    "test_y=test.weightLb\n",
    "test_x=sm.add_constant(test_x)\n",
    "model1=sm.OLS(test_y,test_x).fit()"
   ]
  },
  {
   "cell_type": "code",
   "execution_count": 24,
   "id": "76f8f7da",
   "metadata": {},
   "outputs": [
    {
     "data": {
      "text/plain": [
       "<AxesSubplot:xlabel='heightIn', ylabel='weightLb'>"
      ]
     },
     "execution_count": 24,
     "metadata": {},
     "output_type": "execute_result"
    },
    {
     "data": {
      "image/png": "[encoded data removed]",
      "text/plain": [
       "<Figure size 432x288 with 1 Axes>"
      ]
     },
     "metadata": {
      "needs_background": "light"
     },
     "output_type": "display_data"
    }
   ],
   "source": [
    "sns.scatterplot(x=train.heightIn,y=train.weightLb)\n",
    "sns.scatterplot(x=test.heightIn,y=test.weightLb)\n",
    "predicted_y=model.predict(train_x)\n",
    "sns.lineplot(x=train.heightIn,y=predicted_y)"
   ]
  },
  {
   "cell_type": "code",
   "execution_count": 14,
   "id": "c4f5410c",
   "metadata": {},
   "outputs": [
    {
     "data": {
      "text/plain": [
       "<AxesSubplot:xlabel='heightIn', ylabel='weightLb'>"
      ]
     },
     "execution_count": 14,
     "metadata": {},
     "output_type": "execute_result"
    },
    {
     "data": {
      "image/png": "[encoded data removed]",
      "text/plain": [
       "<Figure size 432x288 with 1 Axes>"
      ]
     },
     "metadata": {
      "needs_background": "light"
     },
     "output_type": "display_data"
    }
   ],
   "source": [
    "sns.scatterplot(x=train.heightIn,y=train.weightLb)\n",
    "sns.scatterplot(x=test.heightIn,y=test.weightLb)\n",
    "predicted_y=model1.predict(test_x)\n",
    "sns.lineplot(x=test.heightIn,y=predicted_y)"
   ]
  },
  {
   "cell_type": "code",
   "execution_count": null,
   "id": "4b2460da",
   "metadata": {},
   "outputs": [],
   "source": []
  }
 ],
 "metadata": {
  "kernelspec": {
   "display_name": "Python 3 (ipykernel)",
   "language": "python",
   "name": "python3"
  },
  "language_info": {
   "codemirror_mode": {
    "name": "ipython",
    "version": 3
   },
   "file_extension": ".py",
   "mimetype": "text/x-python",
   "name": "python",
   "nbconvert_exporter": "python",
   "pygments_lexer": "ipython3",
   "version": "3.9.7"
  }
 },
 "nbformat": 4,
 "nbformat_minor": 5
}
